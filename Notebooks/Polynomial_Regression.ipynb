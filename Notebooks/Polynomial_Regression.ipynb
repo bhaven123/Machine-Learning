{
 "cells": [
  {
   "cell_type": "markdown",
   "metadata": {},
   "source": [
    "# Exercise - Polynomial(Non linear) Regression with semiconductor device I/V plot\n",
    "\n",
    "The dataset is a plot of current variation of a device based on the voltage applied. The output is non linear in nature. We have to predict current based on voltage with non linear regression. \n",
    "\n",
    "### Perform the following operations:\n",
    "\n",
    "1. Plot the voltage vs current. What degree of polynomial do you think is this?\n",
    "2. Split the data into training & testing. It should be a 70:30 split with random_state 2. Obtain polynomial features for training and testing dataset with degree 2. \n",
    "3. Perform linear regression on the transformed training dataset. Plot the polynomial curve obtained along with training data set. Does it properly fit or overfit?\n",
    "4. Predict the output for test dataset, and plot a scatter of test output vs obtained output. Obtain MSE and R^2 score. \n",
    "\n",
    "### Vary the degree from 2 to 10. For which values of degree does the data start to overfit? Plot the training dataset and obtained curve for each degree and justify.\n"
   ]
  },
  {
   "cell_type": "code",
   "execution_count": 1,
   "metadata": {},
   "outputs": [],
   "source": [
    "import pandas as pd\n",
    "from sklearn.preprocessing import PolynomialFeatures\n",
    "from sklearn.model_selection import train_test_split\n",
    "from sklearn.linear_model import LinearRegression"
   ]
  },
  {
   "cell_type": "code",
   "execution_count": 2,
   "metadata": {},
   "outputs": [
    {
     "data": {
      "text/html": [
       "<div>\n",
       "<style scoped>\n",
       "    .dataframe tbody tr th:only-of-type {\n",
       "        vertical-align: middle;\n",
       "    }\n",
       "\n",
       "    .dataframe tbody tr th {\n",
       "        vertical-align: top;\n",
       "    }\n",
       "\n",
       "    .dataframe thead th {\n",
       "        text-align: right;\n",
       "    }\n",
       "</style>\n",
       "<table border=\"1\" class=\"dataframe\">\n",
       "  <thead>\n",
       "    <tr style=\"text-align: right;\">\n",
       "      <th></th>\n",
       "      <th>voltage</th>\n",
       "      <th>current</th>\n",
       "    </tr>\n",
       "  </thead>\n",
       "  <tbody>\n",
       "    <tr>\n",
       "      <th>0</th>\n",
       "      <td>-1.25</td>\n",
       "      <td>-3.164730</td>\n",
       "    </tr>\n",
       "    <tr>\n",
       "      <th>1</th>\n",
       "      <td>-1.20</td>\n",
       "      <td>-2.346773</td>\n",
       "    </tr>\n",
       "    <tr>\n",
       "      <th>2</th>\n",
       "      <td>-1.15</td>\n",
       "      <td>-1.305936</td>\n",
       "    </tr>\n",
       "    <tr>\n",
       "      <th>3</th>\n",
       "      <td>-1.10</td>\n",
       "      <td>-1.891162</td>\n",
       "    </tr>\n",
       "    <tr>\n",
       "      <th>4</th>\n",
       "      <td>-1.05</td>\n",
       "      <td>-1.040983</td>\n",
       "    </tr>\n",
       "  </tbody>\n",
       "</table>\n",
       "</div>"
      ],
      "text/plain": [
       "   voltage   current\n",
       "0    -1.25 -3.164730\n",
       "1    -1.20 -2.346773\n",
       "2    -1.15 -1.305936\n",
       "3    -1.10 -1.891162\n",
       "4    -1.05 -1.040983"
      ]
     },
     "execution_count": 2,
     "metadata": {},
     "output_type": "execute_result"
    }
   ],
   "source": [
    "df = pd.read_csv('./data/data.csv')\n",
    "(df.head())"
   ]
  },
  {
   "cell_type": "code",
   "execution_count": 3,
   "metadata": {},
   "outputs": [
    {
     "data": {
      "image/png": "[encoded data removed]",
      "text/plain": [
       "<Figure size 432x288 with 1 Axes>"
      ]
     },
     "metadata": {},
     "output_type": "display_data"
    }
   ],
   "source": [
    "%matplotlib inline\n",
    "import matplotlib.pyplot as plt\n",
    "\n",
    "plt.figure()\n",
    "plt.plot(df['voltage'],df['current'],'bo')\n",
    "plt.xlabel(\"Voltage\")\n",
    "plt.ylabel(\"Current\")\n",
    "plt.grid(True)"
   ]
  },
  {
   "cell_type": "code",
   "execution_count": 4,
   "metadata": {},
   "outputs": [
    {
     "data": {
      "image/png": "[encoded data removed]",
      "text/plain": [
       "<Figure size 432x288 with 1 Axes>"
      ]
     },
     "metadata": {},
     "output_type": "display_data"
    }
   ],
   "source": [
    "volt_train,volt_test,curr_train,curr_test=train_test_split(df['voltage'],df[\"current\"],test_size=0.3,random_state=2)\n",
    "plt.figure()\n",
    "plt.plot(volt_train,curr_train,'bo',label='Training')\n",
    "plt.plot(volt_test,curr_test,'ro',label='Testing')\n",
    "plt.legend()\n",
    "plt.xlabel(\"Voltage\")\n",
    "plt.ylabel(\"Current\")\n",
    "plt.grid(True)"
   ]
  },
  {
   "cell_type": "code",
   "execution_count": 5,
   "metadata": {},
   "outputs": [
    {
     "data": {
      "text/plain": [
       "array([[ 1.00000000e+00, -1.25000000e+00,  1.56250000e+00,\n",
       "        -1.95312500e+00,  2.44140625e+00],\n",
       "       [ 1.00000000e+00, -1.20000000e+00,  1.44000000e+00,\n",
       "        -1.72800000e+00,  2.07360000e+00],\n",
       "       [ 1.00000000e+00, -1.15000000e+00,  1.32250000e+00,\n",
       "        -1.52087500e+00,  1.74900625e+00],\n",
       "       [ 1.00000000e+00, -1.10000000e+00,  1.21000000e+00,\n",
       "        -1.33100000e+00,  1.46410000e+00],\n",
       "       [ 1.00000000e+00, -1.05000000e+00,  1.10250000e+00,\n",
       "        -1.15762500e+00,  1.21550625e+00],\n",
       "       [ 1.00000000e+00, -1.00000000e+00,  1.00000000e+00,\n",
       "        -1.00000000e+00,  1.00000000e+00],\n",
       "       [ 1.00000000e+00, -9.50000000e-01,  9.02500000e-01,\n",
       "        -8.57375000e-01,  8.14506250e-01],\n",
       "       [ 1.00000000e+00, -9.00000000e-01,  8.10000000e-01,\n",
       "        -7.29000000e-01,  6.56100000e-01],\n",
       "       [ 1.00000000e+00, -8.50000000e-01,  7.22500000e-01,\n",
       "        -6.14125000e-01,  5.22006250e-01],\n",
       "       [ 1.00000000e+00, -8.00000000e-01,  6.40000000e-01,\n",
       "        -5.12000000e-01,  4.09600000e-01],\n",
       "       [ 1.00000000e+00, -7.50000000e-01,  5.62500000e-01,\n",
       "        -4.21875000e-01,  3.16406250e-01],\n",
       "       [ 1.00000000e+00, -7.00000000e-01,  4.90000000e-01,\n",
       "        -3.43000000e-01,  2.40100000e-01],\n",
       "       [ 1.00000000e+00, -6.50000000e-01,  4.22500000e-01,\n",
       "        -2.74625000e-01,  1.78506250e-01],\n",
       "       [ 1.00000000e+00, -6.00000000e-01,  3.60000000e-01,\n",
       "        -2.16000000e-01,  1.29600000e-01],\n",
       "       [ 1.00000000e+00, -5.50000000e-01,  3.02500000e-01,\n",
       "        -1.66375000e-01,  9.15062500e-02],\n",
       "       [ 1.00000000e+00, -5.00000000e-01,  2.50000000e-01,\n",
       "        -1.25000000e-01,  6.25000000e-02],\n",
       "       [ 1.00000000e+00, -4.50000000e-01,  2.02500000e-01,\n",
       "        -9.11250000e-02,  4.10062500e-02],\n",
       "       [ 1.00000000e+00, -4.00000000e-01,  1.60000000e-01,\n",
       "        -6.40000000e-02,  2.56000000e-02],\n",
       "       [ 1.00000000e+00, -3.50000000e-01,  1.22500000e-01,\n",
       "        -4.28750000e-02,  1.50062500e-02],\n",
       "       [ 1.00000000e+00, -3.00000000e-01,  9.00000000e-02,\n",
       "        -2.70000000e-02,  8.10000000e-03],\n",
       "       [ 1.00000000e+00, -2.50000000e-01,  6.25000000e-02,\n",
       "        -1.56250000e-02,  3.90625000e-03],\n",
       "       [ 1.00000000e+00, -2.00000000e-01,  4.00000000e-02,\n",
       "        -8.00000000e-03,  1.60000000e-03],\n",
       "       [ 1.00000000e+00, -1.50000000e-01,  2.25000000e-02,\n",
       "        -3.37500000e-03,  5.06250000e-04],\n",
       "       [ 1.00000000e+00, -1.00000000e-01,  1.00000000e-02,\n",
       "        -1.00000000e-03,  1.00000000e-04],\n",
       "       [ 1.00000000e+00, -5.00000000e-02,  2.50000000e-03,\n",
       "        -1.25000000e-04,  6.25000000e-06],\n",
       "       [ 1.00000000e+00,  0.00000000e+00,  0.00000000e+00,\n",
       "         0.00000000e+00,  0.00000000e+00],\n",
       "       [ 1.00000000e+00,  5.00000000e-02,  2.50000000e-03,\n",
       "         1.25000000e-04,  6.25000000e-06],\n",
       "       [ 1.00000000e+00,  1.00000000e-01,  1.00000000e-02,\n",
       "         1.00000000e-03,  1.00000000e-04],\n",
       "       [ 1.00000000e+00,  1.50000000e-01,  2.25000000e-02,\n",
       "         3.37500000e-03,  5.06250000e-04],\n",
       "       [ 1.00000000e+00,  2.00000000e-01,  4.00000000e-02,\n",
       "         8.00000000e-03,  1.60000000e-03],\n",
       "       [ 1.00000000e+00,  2.50000000e-01,  6.25000000e-02,\n",
       "         1.56250000e-02,  3.90625000e-03],\n",
       "       [ 1.00000000e+00,  3.00000000e-01,  9.00000000e-02,\n",
       "         2.70000000e-02,  8.10000000e-03],\n",
       "       [ 1.00000000e+00,  3.50000000e-01,  1.22500000e-01,\n",
       "         4.28750000e-02,  1.50062500e-02],\n",
       "       [ 1.00000000e+00,  4.00000000e-01,  1.60000000e-01,\n",
       "         6.40000000e-02,  2.56000000e-02],\n",
       "       [ 1.00000000e+00,  4.50000000e-01,  2.02500000e-01,\n",
       "         9.11250000e-02,  4.10062500e-02],\n",
       "       [ 1.00000000e+00,  5.00000000e-01,  2.50000000e-01,\n",
       "         1.25000000e-01,  6.25000000e-02],\n",
       "       [ 1.00000000e+00,  5.50000000e-01,  3.02500000e-01,\n",
       "         1.66375000e-01,  9.15062500e-02],\n",
       "       [ 1.00000000e+00,  6.00000000e-01,  3.60000000e-01,\n",
       "         2.16000000e-01,  1.29600000e-01],\n",
       "       [ 1.00000000e+00,  6.50000000e-01,  4.22500000e-01,\n",
       "         2.74625000e-01,  1.78506250e-01],\n",
       "       [ 1.00000000e+00,  7.00000000e-01,  4.90000000e-01,\n",
       "         3.43000000e-01,  2.40100000e-01],\n",
       "       [ 1.00000000e+00,  7.50000000e-01,  5.62500000e-01,\n",
       "         4.21875000e-01,  3.16406250e-01],\n",
       "       [ 1.00000000e+00,  8.00000000e-01,  6.40000000e-01,\n",
       "         5.12000000e-01,  4.09600000e-01],\n",
       "       [ 1.00000000e+00,  8.50000000e-01,  7.22500000e-01,\n",
       "         6.14125000e-01,  5.22006250e-01],\n",
       "       [ 1.00000000e+00,  9.00000000e-01,  8.10000000e-01,\n",
       "         7.29000000e-01,  6.56100000e-01],\n",
       "       [ 1.00000000e+00,  9.50000000e-01,  9.02500000e-01,\n",
       "         8.57375000e-01,  8.14506250e-01],\n",
       "       [ 1.00000000e+00,  1.00000000e+00,  1.00000000e+00,\n",
       "         1.00000000e+00,  1.00000000e+00],\n",
       "       [ 1.00000000e+00,  1.05000000e+00,  1.10250000e+00,\n",
       "         1.15762500e+00,  1.21550625e+00],\n",
       "       [ 1.00000000e+00,  1.10000000e+00,  1.21000000e+00,\n",
       "         1.33100000e+00,  1.46410000e+00],\n",
       "       [ 1.00000000e+00,  1.15000000e+00,  1.32250000e+00,\n",
       "         1.52087500e+00,  1.74900625e+00],\n",
       "       [ 1.00000000e+00,  1.20000000e+00,  1.44000000e+00,\n",
       "         1.72800000e+00,  2.07360000e+00],\n",
       "       [ 1.00000000e+00,  1.25000000e+00,  1.56250000e+00,\n",
       "         1.95312500e+00,  2.44140625e+00],\n",
       "       [ 1.00000000e+00,  1.30000000e+00,  1.69000000e+00,\n",
       "         2.19700000e+00,  2.85610000e+00],\n",
       "       [ 1.00000000e+00,  1.35000000e+00,  1.82250000e+00,\n",
       "         2.46037500e+00,  3.32150625e+00],\n",
       "       [ 1.00000000e+00,  1.40000000e+00,  1.96000000e+00,\n",
       "         2.74400000e+00,  3.84160000e+00],\n",
       "       [ 1.00000000e+00,  1.45000000e+00,  2.10250000e+00,\n",
       "         3.04862500e+00,  4.42050625e+00],\n",
       "       [ 1.00000000e+00,  1.50000000e+00,  2.25000000e+00,\n",
       "         3.37500000e+00,  5.06250000e+00],\n",
       "       [ 1.00000000e+00,  1.55000000e+00,  2.40250000e+00,\n",
       "         3.72387500e+00,  5.77200625e+00],\n",
       "       [ 1.00000000e+00,  1.60000000e+00,  2.56000000e+00,\n",
       "         4.09600000e+00,  6.55360000e+00],\n",
       "       [ 1.00000000e+00,  1.65000000e+00,  2.72250000e+00,\n",
       "         4.49212500e+00,  7.41200625e+00],\n",
       "       [ 1.00000000e+00,  1.70000000e+00,  2.89000000e+00,\n",
       "         4.91300000e+00,  8.35210000e+00],\n",
       "       [ 1.00000000e+00,  1.75000000e+00,  3.06250000e+00,\n",
       "         5.35937500e+00,  9.37890625e+00],\n",
       "       [ 1.00000000e+00,  1.80000000e+00,  3.24000000e+00,\n",
       "         5.83200000e+00,  1.04976000e+01],\n",
       "       [ 1.00000000e+00,  1.85000000e+00,  3.42250000e+00,\n",
       "         6.33162500e+00,  1.17135063e+01],\n",
       "       [ 1.00000000e+00,  1.90000000e+00,  3.61000000e+00,\n",
       "         6.85900000e+00,  1.30321000e+01],\n",
       "       [ 1.00000000e+00,  1.95000000e+00,  3.80250000e+00,\n",
       "         7.41487500e+00,  1.44590062e+01],\n",
       "       [ 1.00000000e+00,  2.00000000e+00,  4.00000000e+00,\n",
       "         8.00000000e+00,  1.60000000e+01],\n",
       "       [ 1.00000000e+00,  2.05000000e+00,  4.20250000e+00,\n",
       "         8.61512500e+00,  1.76610062e+01],\n",
       "       [ 1.00000000e+00,  2.10000000e+00,  4.41000000e+00,\n",
       "         9.26100000e+00,  1.94481000e+01],\n",
       "       [ 1.00000000e+00,  2.15000000e+00,  4.62250000e+00,\n",
       "         9.93837500e+00,  2.13675062e+01]])"
      ]
     },
     "execution_count": 5,
     "metadata": {},
     "output_type": "execute_result"
    }
   ],
   "source": [
    "import numpy as np\n",
    "\n",
    "poly=PolynomialFeatures(degree=4)\n",
    "\n",
    "QuadraticCoeff=poly.fit_transform(df['voltage'].values.reshape(-1,1))\n",
    "QuadraticCoeff"
   ]
  },
  {
   "cell_type": "code",
   "execution_count": 6,
   "metadata": {},
   "outputs": [
    {
     "name": "stdout",
     "output_type": "stream",
     "text": [
      "Expected Output\n",
      " 0    -3.164730\n",
      "1    -2.346773\n",
      "2    -1.305936\n",
      "3    -1.891162\n",
      "4    -1.040983\n",
      "5    -1.468562\n",
      "6    -0.836266\n",
      "7    -0.706068\n",
      "8    -0.565333\n",
      "9    -1.488503\n",
      "10   -0.671475\n",
      "11   -0.581898\n",
      "12    0.034008\n",
      "13   -0.345264\n",
      "14   -0.624779\n",
      "15    0.210057\n",
      "16   -0.750032\n",
      "17    0.511143\n",
      "18    0.374613\n",
      "19   -0.387191\n",
      "20    0.772276\n",
      "21    0.212614\n",
      "22   -0.538719\n",
      "23   -0.456034\n",
      "24   -0.855777\n",
      "25   -0.770901\n",
      "26    0.495114\n",
      "27   -0.741300\n",
      "28    0.134684\n",
      "29   -0.223752\n",
      "        ...   \n",
      "39    0.174277\n",
      "40    0.553204\n",
      "41    0.162978\n",
      "42    0.167203\n",
      "43    0.881266\n",
      "44    0.513323\n",
      "45    1.728250\n",
      "46    2.000633\n",
      "47    2.150938\n",
      "48    2.740402\n",
      "49    2.125739\n",
      "50    2.024269\n",
      "51    2.150837\n",
      "52    3.407732\n",
      "53    1.619470\n",
      "54    3.484172\n",
      "55    2.695660\n",
      "56    2.779708\n",
      "57    5.266017\n",
      "58    2.989576\n",
      "59    5.056036\n",
      "60    6.311777\n",
      "61    7.011223\n",
      "62    4.188893\n",
      "63    5.723609\n",
      "64    7.454595\n",
      "65    5.514608\n",
      "66    5.669420\n",
      "67    6.826437\n",
      "68    7.663116\n",
      "Name: current, Length: 69, dtype: float64\n",
      "Predicted Output\n",
      " [-2.6659711  -2.31902831 -2.00637845 -1.72591964 -1.47560022 -1.25341871\n",
      " -1.05742383 -0.8857145  -0.73643983 -0.60779913 -0.49804192 -0.4054679\n",
      " -0.32842697 -0.26531923 -0.21459497 -0.17475468 -0.14434905 -0.12197897\n",
      " -0.10629552 -0.09599998 -0.08984382 -0.08662871 -0.08520652 -0.08447931\n",
      " -0.08339936 -0.08096911 -0.07624122 -0.06831855 -0.05635413 -0.03955122\n",
      " -0.01716326  0.01150611  0.04710307  0.09022357  0.14141339  0.20116811\n",
      "  0.2699331   0.34810354  0.43602442  0.53399053  0.64224646  0.7609866\n",
      "  0.89035515  1.03044612  1.1813033   1.34292031  1.51524056  1.69815726\n",
      "  1.89151343  2.0951019   2.30866528  2.53189601  2.76443631  3.00587823\n",
      "  3.25576359  3.51358404  3.77878104  4.05074581  4.32881942  4.61229272\n",
      "  4.90040636  5.19235082  5.48726635  5.78424302  6.0823207   6.38048907\n",
      "  6.6776876   6.97280558  7.2646821 ]\n"
     ]
    }
   ],
   "source": [
    "lm=LinearRegression()\n",
    "lm.fit(QuadraticCoeff,df['current'])\n",
    "print(\"Expected Output\\n\",df['current'])\n",
    "print(\"Predicted Output\\n\",lm.predict(QuadraticCoeff))"
   ]
  },
  {
   "cell_type": "code",
   "execution_count": 7,
   "metadata": {},
   "outputs": [
    {
     "data": {
      "image/png": "[encoded data removed]",
      "text/plain": [
       "<Figure size 432x288 with 1 Axes>"
      ]
     },
     "metadata": {},
     "output_type": "display_data"
    }
   ],
   "source": [
    "import numpy as np\n",
    "xx=np.linspace(-2,3,100).reshape(-1,1)\n",
    "xx_quadratic=poly.fit_transform(xx)\n",
    "\n",
    "plt.axis([-2,3,-5,10])\n",
    "plt.grid()\n",
    "plt.plot(xx,lm.predict(xx_quadratic),c='r',linestyle='--')\n",
    "plt.scatter(df['voltage'],df['current'])\n",
    "plt.show()"
   ]
  },
  {
   "cell_type": "code",
   "execution_count": 8,
   "metadata": {},
   "outputs": [
    {
     "data": {
      "image/png": "[encoded data removed]",
      "text/plain": [
       "<Figure size 432x288 with 1 Axes>"
      ]
     },
     "metadata": {},
     "output_type": "display_data"
    }
   ],
   "source": [
    "plt.scatter(df['current'], lm.predict(QuadraticCoeff), c='b',)\n",
    "plt.grid()\n",
    "plt.axis()\n",
    "plt.show()"
   ]
  },
  {
   "cell_type": "code",
   "execution_count": 11,
   "metadata": {},
   "outputs": [
    {
     "data": {
      "text/plain": [
       "0.9299753978974236"
      ]
     },
     "execution_count": 11,
     "metadata": {},
     "output_type": "execute_result"
    }
   ],
   "source": [
    "lm.score(QuadraticCoeff,df['current'])"
   ]
  },
  {
   "cell_type": "code",
   "execution_count": 9,
   "metadata": {},
   "outputs": [
    {
     "name": "stdout",
     "output_type": "stream",
     "text": [
      "SGD MSE -> 0.43592474769493367\n"
     ]
    }
   ],
   "source": [
    "from sklearn.metrics import mean_squared_error\n",
    "\n",
    "mse=mean_squared_error(df['current'],lm.predict(QuadraticCoeff),multioutput='uniform_average')\n",
    "print(\"SGD MSE ->\",mse)"
   ]
  },
  {
   "cell_type": "code",
   "execution_count": 10,
   "metadata": {},
   "outputs": [
    {
     "name": "stdout",
     "output_type": "stream",
     "text": [
      "0.9299753978974236\n"
     ]
    }
   ],
   "source": [
    "from sklearn.metrics import r2_score\n",
    "r2=r2_score(df['current'],lm.predict(QuadraticCoeff))\n",
    "print(r2)"
   ]
  },
  {
   "cell_type": "markdown",
   "metadata": {},
   "source": [
    "After degree 3 or 4, the graph starts to overfit"
   ]
  }
 ],
 "metadata": {
  "kernelspec": {
   "display_name": "Python 3",
   "language": "python",
   "name": "python3"
  },
  "language_info": {
   "codemirror_mode": {
    "name": "ipython",
    "version": 3
   },
   "file_extension": ".py",
   "mimetype": "text/x-python",
   "name": "python",
   "nbconvert_exporter": "python",
   "pygments_lexer": "ipython3",
   "version": "3.6.5"
  }
 },
 "nbformat": 4,
 "nbformat_minor": 2
}
